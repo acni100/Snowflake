{
 "metadata": {
  "kernelspec": {
   "display_name": "Streamlit Notebook",
   "name": "streamlit"
  }
 },
 "nbformat_minor": 5,
 "nbformat": 4,
 "cells": [
  {
   "cell_type": "markdown",
   "id": "de031009-c92e-4f1b-ad96-9882e2d942e0",
   "metadata": {
    "name": "cell13",
    "collapsed": false,
    "resultHeight": 115
   },
   "source": "# CAL FIRE DATASET ANALYSIS\nBreak Through Tech AI, Team Snowflake 1A "
  },
  {
   "cell_type": "markdown",
   "id": "e0bbe34f-690a-42d3-80b3-b434ea1789c6",
   "metadata": {
    "name": "cell43",
    "collapsed": false,
    "resultHeight": 41
   },
   "source": "Load datasets from SQL into Pandas dataframes."
  },
  {
   "cell_type": "code",
   "id": "0fb0183a-294c-4b5a-838f-8d8133feb92b",
   "metadata": {
    "language": "python",
    "name": "cell58",
    "collapsed": false,
    "resultHeight": 0
   },
   "outputs": [],
   "source": "from snowflake.snowpark.context import get_active_session\nsession = get_active_session()",
   "execution_count": null
  },
  {
   "cell_type": "code",
   "id": "8491a59a-f501-4e6b-8cb5-eac4e2c7b62a",
   "metadata": {
    "language": "sql",
    "name": "load_incident",
    "collapsed": false,
    "codeCollapsed": false,
    "resultHeight": 439
   },
   "outputs": [],
   "source": "SELECT * FROM FIRE.PUBLIC.CALFIRE_INCIDENTS",
   "execution_count": null
  },
  {
   "cell_type": "code",
   "id": "8d50cbf4-0c8d-4950-86cb-114990437ac9",
   "metadata": {
    "language": "sql",
    "name": "load_df",
    "collapsed": false,
    "codeCollapsed": false,
    "resultHeight": 439
   },
   "source": "SELECT * FROM FIRE.PUBLIC.CALFIRE",
   "execution_count": null,
   "outputs": []
  },
  {
   "cell_type": "code",
   "id": "ece95aab-9f79-4fe1-beeb-ac100fa343a8",
   "metadata": {
    "language": "sql",
    "name": "load_damage",
    "codeCollapsed": false,
    "resultHeight": 511,
    "collapsed": false
   },
   "outputs": [],
   "source": "SELECT * FROM FIRE.PUBLIC.CALFIRE_DAMAGE",
   "execution_count": null
  },
  {
   "cell_type": "code",
   "id": "908ede2b-4417-45ce-bcc9-bf92d685bdc8",
   "metadata": {
    "language": "python",
    "name": "cell37",
    "collapsed": false,
    "codeCollapsed": false,
    "resultHeight": 0
   },
   "outputs": [],
   "source": "fire_incidents_df = load_incident.to_pandas()",
   "execution_count": null
  },
  {
   "cell_type": "markdown",
   "id": "2ef3a72c-66e1-42ce-9ca1-ca59780f2f60",
   "metadata": {
    "name": "cell44",
    "collapsed": false,
    "resultHeight": 46
   },
   "source": "### Processing Fire Incidents DF"
  },
  {
   "cell_type": "code",
   "id": "0de79eeb-7fbf-45be-85a4-fec1e806f693",
   "metadata": {
    "language": "python",
    "name": "cell41",
    "codeCollapsed": false,
    "collapsed": false,
    "resultHeight": 0
   },
   "outputs": [],
   "source": "fire_incidents_rename = {\n    'NAME': 'INCIDENT_NAME' \n}\nfire_incidents_df.rename(columns=fire_incidents_rename, inplace=True)",
   "execution_count": null
  },
  {
   "cell_type": "markdown",
   "id": "3ba4d74f-8b6a-44d4-8fc0-ca428beccb38",
   "metadata": {
    "name": "cell45",
    "collapsed": false,
    "resultHeight": 46
   },
   "source": "### Processing Fire DF "
  },
  {
   "cell_type": "code",
   "id": "c695373e-ac74-4b62-a1f1-08206cbd5c81",
   "metadata": {
    "language": "python",
    "name": "cell3",
    "collapsed": false,
    "codeCollapsed": false,
    "resultHeight": 0
   },
   "source": "fire_df = load_df.to_pandas()",
   "execution_count": null,
   "outputs": []
  },
  {
   "cell_type": "code",
   "id": "f6438cdb-3216-4565-b8f7-982a37e2c2d3",
   "metadata": {
    "language": "python",
    "name": "cell5",
    "codeCollapsed": false,
    "resultHeight": 58,
    "collapsed": false
   },
   "outputs": [],
   "source": "total_count = len(fire_df)\ntotal_count",
   "execution_count": null
  },
  {
   "cell_type": "code",
   "id": "ff662103-0f82-4593-962d-6a99f6bb0801",
   "metadata": {
    "language": "python",
    "name": "cell2",
    "collapsed": false,
    "codeCollapsed": false,
    "resultHeight": 438
   },
   "outputs": [],
   "source": "missing_counts = fire_df.isnull().sum() \nmissing_counts",
   "execution_count": null
  },
  {
   "cell_type": "code",
   "id": "327fe384-a1b0-45ce-9dea-824de951c74f",
   "metadata": {
    "language": "python",
    "name": "cell4",
    "codeCollapsed": false,
    "resultHeight": 438,
    "collapsed": false
   },
   "outputs": [],
   "source": "fire_df['TIME_TO_EXTINGUISH'] = (fire_df['INCIDENT_DATE_EXTINGUISHED'] - fire_df['INCIDENT_DATE_CREATED']).dt.total_seconds()/3600\nfire_df[['INCIDENT_NAME', 'TIME_TO_EXTINGUISH']]",
   "execution_count": null
  },
  {
   "cell_type": "code",
   "id": "a4c00c60-ee09-4e46-b4d8-44bfe5bf49af",
   "metadata": {
    "language": "python",
    "name": "cell10",
    "codeCollapsed": false,
    "resultHeight": 0,
    "collapsed": false
   },
   "outputs": [],
   "source": "fire_df['YEAR'] = fire_df['INCIDENT_DATE_CREATED'].dt.year",
   "execution_count": null
  },
  {
   "cell_type": "code",
   "id": "d48f84d6-82a6-4697-9f3c-11c5206bae10",
   "metadata": {
    "language": "python",
    "name": "cell8",
    "codeCollapsed": false,
    "resultHeight": 438,
    "collapsed": false
   },
   "outputs": [],
   "source": "fire_df",
   "execution_count": null
  },
  {
   "cell_type": "markdown",
   "id": "96692ff1-5551-477b-a7c5-992a8639973b",
   "metadata": {
    "name": "cell23",
    "collapsed": false,
    "resultHeight": 46
   },
   "source": "### Fire Damage Dataset Processing"
  },
  {
   "cell_type": "code",
   "id": "8dec1d06-31e1-4b44-aa7d-3e93b93ce0e3",
   "metadata": {
    "language": "python",
    "name": "cell24",
    "codeCollapsed": false,
    "resultHeight": 439,
    "collapsed": false
   },
   "outputs": [],
   "source": "fire_damage_df_snowflake = load_damage.to_df()\nfire_damage_df_snowflake",
   "execution_count": null
  },
  {
   "cell_type": "code",
   "id": "0444607e-3ecd-43ea-8e69-a8dc956569cc",
   "metadata": {
    "language": "python",
    "name": "cell28",
    "codeCollapsed": false,
    "resultHeight": 511,
    "collapsed": false
   },
   "outputs": [],
   "source": "fire_damage_df = fire_damage_df_snowflake.to_pandas()\nfire_damage_df",
   "execution_count": null
  },
  {
   "cell_type": "code",
   "id": "c806d294-7201-434e-a3ae-31b2614889cb",
   "metadata": {
    "language": "python",
    "name": "cell27",
    "codeCollapsed": false,
    "resultHeight": 0,
    "collapsed": false
   },
   "outputs": [],
   "source": "rename_dict = {\n    'OBJECTID': 'ID',\n    '* Damage': 'DAMAGE',\n    '* Street Number': 'STREET_NUM',\n    '* Street Name': 'STREET_NAME',\n    '* Street Type (e.g. road, drive, lane, etc.)': 'STREET_TYPE',\n    'Street Suffix (e.g. apt. 23, blding C)': 'STREET_SUFFIX',\n    '* City': 'CITY',\n    'STATE': 'STATE',\n    'ZIP_CODE': 'ZIP_CODE',\n    '* CAL FIRE Unit': 'CAL_FIRE_UNIT',\n    'COUNTY': 'COUNTY',\n    'COMMUNITY': 'COMMUNITY',\n    'BATTALION': 'BATTALION',\n    '* Incident Name': 'INCIDENT_NAME',\n    'Incident Number (e.g. CAAEU 123456)': 'INCIDENT_NUM',\n    'INCIDENT_START_DATE': 'START_DATE',\n    'HAZARD_TYPE': 'HAZARD_TYPE',\n    'If Affected 1-9% - Where did fire start?': 'FIRE_ORIGIN',\n    'If Affected 1-9% - What started fire?': 'FIRE_CAUSE',\n    'STRUCTURE_DEFENSE_ACTIONS_TAKEN': 'DEFENSE_ACTIONS',\n    '* Structure Type': 'STRUCTURE_TYPE',\n    'STRUCTURE_CATEGORY': 'STRUCTURE_CATEGORY',\n    '# Units in Structure (if multi unit)': 'UNITS_STRUCTURE',\n    '# of Damaged Outbuildings < 120 SQFT': 'DAMAGED_OUTBUILDINGS',\n    '# of Non Damaged Outbuildings < 120 SQFT': 'NON_DAMAGED_OUTBUILDINGS',\n    '* Roof Construction': 'ROOF_TYPE',\n    '* Eaves': 'EAVES_TYPE',\n    '* Vent Screen': 'VENT_SCREEN',\n    '* Exterior Siding': 'SIDING',\n    '* Window Pane': 'WINDOW_PANE',\n    '* Deck/Porch On Grade': 'DECK_ON_GRADE',\n    '* Deck/Porch Elevated': 'DECK_ELEVATED',\n    '* Patio Cover/Carport Attached to Structure': 'PATIO_COVER',\n    '* Fence Attached to Structure': 'FENCE_ATTACHED',\n    'Distance - Propane Tank to Structure': 'PROPANE_DISTANCE',\n    'Distance - Residence to Utility/Misc Structure &gt; 120 SQFT': 'RESIDENCE_DISTANCE',\n    'Fire Name (Secondary)': 'FIRE_NAME_SECONDARY',\n    'APN (parcel)': 'APN',\n    'Assessed Improved Value (parcel)': 'IMPROVED_VALUE',\n    'Year Built (parcel)': 'YEAR_BUILT',\n    'Site Address (parcel)': 'SITE_ADDRESS',\n    'GLOBALID': 'GLOBAL_ID',\n    'LATITUDE': 'LATITUDE',\n    'LONGITUDE': 'LONGITUDE',\n    'X': 'X_COORD',\n    'Y': 'Y_COORD'\n}\n\nfire_damage_df.rename(columns=rename_dict, inplace=True)",
   "execution_count": null
  },
  {
   "cell_type": "code",
   "id": "91e9c5cb-0b09-45a6-8dc6-392c44e21810",
   "metadata": {
    "language": "python",
    "name": "cell30",
    "codeCollapsed": false,
    "resultHeight": 60,
    "collapsed": false
   },
   "outputs": [],
   "source": "print(fire_damage_df['DAMAGE'].unique())",
   "execution_count": null
  },
  {
   "cell_type": "code",
   "id": "3efb2512-2122-4aae-b040-3e47635975be",
   "metadata": {
    "language": "python",
    "name": "cell34",
    "codeCollapsed": false,
    "resultHeight": 38,
    "collapsed": false
   },
   "outputs": [],
   "source": "print(len(fire_damage_df['INCIDENT_NAME'].unique()))",
   "execution_count": null
  },
  {
   "cell_type": "code",
   "id": "bfe95345-264f-4e0d-b04a-8ca65c15ad56",
   "metadata": {
    "language": "python",
    "name": "cell32",
    "codeCollapsed": false,
    "resultHeight": 307,
    "collapsed": false
   },
   "outputs": [],
   "source": "damage_counts = (\n    fire_damage_df.groupby(['INCIDENT_NAME', 'DAMAGE'])\n    .size()  # or use .count() if you want to count non-null values in another column\n    .reset_index(name='COUNT')  # Resetting index to convert the result into a DataFrame\n)\n\nprint(damage_counts)",
   "execution_count": null
  },
  {
   "cell_type": "code",
   "id": "b179f52d-5305-4c11-89ce-b7c567d0c7cf",
   "metadata": {
    "language": "python",
    "name": "cell33",
    "codeCollapsed": false,
    "collapsed": false,
    "resultHeight": 0
   },
   "outputs": [],
   "source": "import pandas as pd\ndamage_pivot = damage_counts.pivot_table(\n    index='INCIDENT_NAME', \n    columns='DAMAGE', \n    values='COUNT', \n    fill_value=0  # Fill NaN with 0\n).reset_index()\ndamage_df = pd.DataFrame(damage_pivot)",
   "execution_count": null
  },
  {
   "cell_type": "code",
   "id": "fef487ba-aecf-4f36-9489-08d7e67362e6",
   "metadata": {
    "language": "python",
    "name": "cell53",
    "codeCollapsed": false,
    "resultHeight": 0,
    "collapsed": false
   },
   "outputs": [],
   "source": "damage_df['INCIDENT_NAME'] += ' Fire'",
   "execution_count": null
  },
  {
   "cell_type": "code",
   "id": "efd5b012-c1a3-4554-8694-fad16e627c4f",
   "metadata": {
    "language": "python",
    "name": "cell35",
    "codeCollapsed": false,
    "resultHeight": 87,
    "collapsed": false
   },
   "outputs": [],
   "source": "damage_df",
   "execution_count": null
  },
  {
   "cell_type": "markdown",
   "id": "e4cd0681-411c-458e-8e1d-84f367db5118",
   "metadata": {
    "name": "cell6",
    "collapsed": false
   },
   "source": ""
  },
  {
   "cell_type": "code",
   "id": "adf6dfed-47cf-4d09-8997-a465d950b924",
   "metadata": {
    "language": "python",
    "name": "cell31",
    "codeCollapsed": false,
    "resultHeight": 217,
    "collapsed": false
   },
   "outputs": [],
   "source": "none_values_per_column = damage_df.isna().sum()\nprint(none_values_per_column)",
   "execution_count": null
  },
  {
   "cell_type": "markdown",
   "id": "3cd6eeb2-db31-41d8-9266-d4a979201768",
   "metadata": {
    "name": "cell11",
    "collapsed": false,
    "resultHeight": 60
   },
   "source": "## Combining the Datasets"
  },
  {
   "cell_type": "code",
   "id": "8978e1ab-183c-4a41-92ac-6add7cc6d747",
   "metadata": {
    "language": "python",
    "name": "cell7",
    "codeCollapsed": false,
    "resultHeight": 523,
    "collapsed": false
   },
   "outputs": [],
   "source": "import matplotlib.pyplot as plt\n# which counties get the most wildfires\nwildfire_counties = fire_df['INCIDENT_COUNTY'].value_counts().sort_index()\nwildfire_counties_2 = fire_incidents_df['COUNTIES'].value_counts().sort_index()\n\n# print(wildfire_counties)\n# print(wildfire_counties.nlargest(30))\n# print(wildfire_counties_2.nlargest(30))\n\n\ntop_wildfire_counties = wildfire_counties.nlargest(30)\ntop_wildfire_counties_2 = wildfire_counties_2.nlargest(30)\n\ntop_wildfire_counties.plot(kind='bar', color='skyblue', label='calfire')\ntop_wildfire_counties_2.plot(kind='bar', label='incidents')\nplt.title('Number of Wildfires per County')\nplt.xlabel('County')\nplt.ylabel('Number of Wildfires')\nplt.xticks(rotation=90)\nplt.grid(axis='y')\nplt.legend()\nplt.show()",
   "execution_count": null
  },
  {
   "cell_type": "code",
   "id": "a65a8489-f7d7-4ce5-8bdf-88ad78458277",
   "metadata": {
    "language": "sql",
    "name": "loading_lat_lon",
    "collapsed": false,
    "resultHeight": 279
   },
   "outputs": [],
   "source": "SELECT * FROM FIRE.PUBLIC.CAL_LAT_LON",
   "execution_count": null
  },
  {
   "cell_type": "code",
   "id": "37a7d7c0-fe77-4af2-ac2b-a9c8c2adbd9f",
   "metadata": {
    "language": "python",
    "name": "cell70",
    "collapsed": false,
    "resultHeight": 439
   },
   "outputs": [],
   "source": "cal_lat_lon_df = loading_lat_lon.to_pandas()\ncal_lat_lon_df",
   "execution_count": null
  },
  {
   "cell_type": "code",
   "id": "67d0db7d-322a-4852-aff0-2082ca9b425d",
   "metadata": {
    "language": "python",
    "name": "cell49",
    "codeCollapsed": false,
    "resultHeight": 438,
    "collapsed": false
   },
   "outputs": [],
   "source": "fire_df_final = fire_df[['INCIDENT_NAME', 'INCIDENT_DATE_CREATED', 'INCIDENT_ADMINISTRATIVE_UNIT', 'INCIDENT_COUNTY', 'INCIDENT_ACRES_BURNED', 'INCIDENT_CONTAINMENT', 'TIME_TO_EXTINGUISH']]\nfire_df_final",
   "execution_count": null
  },
  {
   "cell_type": "code",
   "id": "55be763e-4b39-47a9-ad23-4a70e7fc76c4",
   "metadata": {
    "language": "python",
    "name": "cell69",
    "collapsed": false,
    "resultHeight": 495
   },
   "outputs": [],
   "source": "# Rename columns if necessary\ncal_lat_lon_df.rename(columns={\"county\": \"COUNTY\"}, inplace=True)\n\n# Perform the merge\nfire_df_final = fire_df_final.merge(\n    cal_lat_lon_df[['COUNTY', 'LATITUDE', 'LONGITUDE']],\n    on='INCIDENT_COUNTY',  # Common column\n    how='left'  # 'left' keeps all rows from fire_df_final\n)\n\n# Inspect the merged DataFrame\nprint(fire_df_final.head())\n\n",
   "execution_count": null
  },
  {
   "cell_type": "code",
   "id": "aca60a4b-7ac1-4976-8892-107edfb23e19",
   "metadata": {
    "language": "python",
    "name": "cell71",
    "collapsed": false,
    "resultHeight": 438
   },
   "outputs": [],
   "source": "fire_df_final = cal_lat_lon_df[['LATITUDE', 'LONGITUDE']]\nfire_df_final",
   "execution_count": null
  },
  {
   "cell_type": "code",
   "id": "1364c66c-49c8-4a58-895c-85c3ebdc8940",
   "metadata": {
    "language": "python",
    "name": "cell48",
    "codeCollapsed": false,
    "resultHeight": 438,
    "collapsed": false
   },
   "outputs": [],
   "source": "damage_df",
   "execution_count": null
  },
  {
   "cell_type": "code",
   "id": "3bc350fb-748d-45cb-bf66-b77fc9ec9df9",
   "metadata": {
    "language": "python",
    "name": "cell51",
    "codeCollapsed": false,
    "resultHeight": 239,
    "collapsed": false
   },
   "outputs": [],
   "source": "missing_counts_2 = fire_incidents_df_final.isnull().sum() \nmissing_counts_2",
   "execution_count": null
  },
  {
   "cell_type": "code",
   "id": "47ab4208-3e29-4521-a7de-2ef078457766",
   "metadata": {
    "language": "python",
    "name": "cell50",
    "codeCollapsed": false,
    "resultHeight": 438,
    "collapsed": false
   },
   "outputs": [],
   "source": "fire_incidents_final_df = fire_incidents_df[['INCIDENT_NAME', 'COUNTIES', 'CREWSINVOLVED', 'DOZERS', 'ENGINES', 'FATALITIES', 'HELICOPTERS', 'INJURIES', 'PERSONNELINVOLVED', 'STRUCTURESDAMAGED', 'STRUCTURESDESTROYED', 'STRUCTURESEVACUATED', 'STRUCTURESTHREATENED']]\nfire_incidents_final_df",
   "execution_count": null
  },
  {
   "cell_type": "code",
   "id": "7654340b-bc62-4b57-88ec-e2123aebb548",
   "metadata": {
    "language": "python",
    "name": "cell26",
    "codeCollapsed": false,
    "resultHeight": 345,
    "collapsed": false
   },
   "outputs": [],
   "source": "fire_df_final['INCIDENT_COUNTY'] = fire_df_final['INCIDENT_COUNTY'].str.split(',').str[0].str.strip()",
   "execution_count": null
  },
  {
   "cell_type": "code",
   "id": "8d04c0f6-ccc2-4abf-93f7-4c6ba4702054",
   "metadata": {
    "language": "python",
    "name": "cell56",
    "resultHeight": 0
   },
   "outputs": [],
   "source": "# scatter plots (for a couple of counties, acres burned vs time to extinguish)\n# box plots (distribution of like acres burned, time to extinguish)",
   "execution_count": null
  },
  {
   "cell_type": "code",
   "id": "ae7ebeec-5da7-4c61-b15b-3b31043750c2",
   "metadata": {
    "language": "python",
    "name": "cell9",
    "codeCollapsed": false,
    "resultHeight": 395,
    "collapsed": false
   },
   "outputs": [],
   "source": "# fire_df_final aggregate over county \nfire_df_agg = fire_df_final.groupby('INCIDENT_COUNTY').agg(\n    MIN_ACRES_BURNED=('INCIDENT_ACRES_BURNED', 'min'),\n    MAX_ACRES_BURNED=('INCIDENT_ACRES_BURNED', 'max'),\n    AVG_ACRES_BURNED=('INCIDENT_ACRES_BURNED', 'mean'),\n    STDEV_ACRES_BURNED=('INCIDENT_ACRES_BURNED', 'std'),\n    # MIN_TIME_TO_EXTINGUISH=('TIME_TO_EXTINGUISH', 'min'),\n    MAX_TIME_TO_EXTINGUISH=('TIME_TO_EXTINGUISH', 'max'),\n    AVG_TIME_TO_EXTINGUISH=('TIME_TO_EXTINGUISH', 'mean'),\n    STDEV_TIME_TO_EXTINGUISH=('TIME_TO_EXTINGUISH', 'std')\n).reset_index()\nfire_df_agg",
   "execution_count": null
  },
  {
   "cell_type": "code",
   "id": "69c9f8b7-2018-4bd2-afbd-51b8241e93ed",
   "metadata": {
    "language": "python",
    "name": "cell42",
    "resultHeight": 438,
    "collapsed": false
   },
   "outputs": [],
   "source": "missing_counts_2 = fire_incidents_final_df.isnull().sum() \nmissing_counts_2",
   "execution_count": null
  },
  {
   "cell_type": "code",
   "id": "60889482-f32e-4510-b60f-e8245c13e009",
   "metadata": {
    "language": "python",
    "name": "cell46",
    "resultHeight": 438,
    "collapsed": false
   },
   "outputs": [],
   "source": "filtered_df = fire_incidents_final_df.dropna(subset=['CREWSINVOLVED'])\nfiltered_df",
   "execution_count": null
  },
  {
   "cell_type": "code",
   "id": "f30d7358-c8b5-45f2-97b5-6400311526d6",
   "metadata": {
    "language": "python",
    "name": "cell39",
    "codeCollapsed": false,
    "resultHeight": 438,
    "collapsed": false
   },
   "outputs": [],
   "source": "# re_incidents_df[['INCIDENT_NAME', 'COUNTIES', 'CREWSINVOLVED', 'DOZERS', 'ENGINES', 'FATALITIES', 'HELICOPTERS', 'INJURIES', 'PERSONNELINVOLVED', 'STRUCTURESDAMAGED', 'STRUCTURESDESTROYED', 'STRUCTURESEVACUATED', 'STRUCTURESTHREATENED']\n# CREWSINVOLVED, DOZERS, ENGINES, HELICOPTERS, PERSONNELINVOLVED\n# fire_incidents_final_df\n# fire_df_final aggregate over county \nfire_incidents_agg = fire_incidents_final_df.groupby('COUNTIES').agg(\n    AVG_CREWSINVOLVED=('CREWSINVOLVED', 'mean'),\n    AVG_DOZERS=('DOZERS', 'mean'),\n    AVG_ENGINERS=('ENGINES', 'mean'),\n    AVG_HELICOPERS=('HELICOPTERS', 'mean'),\n    AVG_PERSONNELINVOLVED=('PERSONNELINVOLVED', 'mean'),\n).reset_index()\n# fire_incidents_agg\nfire_incidents_agg_filled = fire_incidents_agg.fillna(0)\nfire_incidents_agg_filled.rename(columns={'COUNTIES': 'INCIDENT_COUNTY'}, inplace=True)\nfire_incidents_agg_filled",
   "execution_count": null
  },
  {
   "cell_type": "code",
   "id": "54ee117b-9e3a-4451-a19f-2abd10144ac0",
   "metadata": {
    "language": "python",
    "name": "cell57",
    "resultHeight": 239,
    "collapsed": false
   },
   "outputs": [],
   "source": "session = get_active_session()\nsession.write_pandas(\n    combined_agg_df,\n    table_name='cal_fire_combined_agg_cleaned',\n    auto_create_table=True\n   )",
   "execution_count": null
  },
  {
   "cell_type": "code",
   "id": "19835f01-dd65-41d8-bf33-4f80b60e8083",
   "metadata": {
    "language": "python",
    "name": "cell54",
    "codeCollapsed": false,
    "resultHeight": 0,
    "collapsed": false
   },
   "outputs": [],
   "source": "",
   "execution_count": null
  },
  {
   "cell_type": "code",
   "id": "53c844c0-06d5-4e85-9752-9a5c50dbb417",
   "metadata": {
    "language": "python",
    "name": "cell52",
    "resultHeight": 245,
    "collapsed": false
   },
   "outputs": [],
   "source": "combined_agg_df = fire_df_agg.merge(fire_incidents_agg_filled, on='INCIDENT_COUNTY', how='left')\ncombined_agg_df",
   "execution_count": null
  },
  {
   "cell_type": "code",
   "id": "4ba9a2a7-efc4-4726-a266-22d62f4dfdf2",
   "metadata": {
    "language": "python",
    "name": "cell59",
    "collapsed": false,
    "resultHeight": 239
   },
   "outputs": [],
   "source": "session = get_active_session()\nsession.write_pandas(\n    combined_agg_df,\n    table_name='cal_fire_combined_agg_cleaned',\n    auto_create_table=True\n   )",
   "execution_count": null
  },
  {
   "cell_type": "code",
   "id": "2869090c-3343-4364-aa31-6bb6570b2d02",
   "metadata": {
    "language": "python",
    "name": "cell55",
    "resultHeight": 239
   },
   "outputs": [],
   "source": "combined_agg_df.to_csv('calfire_agg_v0.csv', index=False)",
   "execution_count": null
  },
  {
   "cell_type": "code",
   "id": "a1e259ca-21a1-446e-9046-96c6885201a5",
   "metadata": {
    "language": "python",
    "name": "cell36",
    "codeCollapsed": false,
    "collapsed": false,
    "resultHeight": 0
   },
   "outputs": [],
   "source": "# combined_df = fire_df_final.merge(damage_df, on='INCIDENT_NAME', how='left')\n# combined_df = combined_df.merge(fire_incidents_final_df, on='INCIDENT_NAME', how='left')\n# combined_df",
   "execution_count": null
  },
  {
   "cell_type": "code",
   "id": "36d5ecb6-7875-49cc-a90e-d9663a9ac570",
   "metadata": {
    "language": "python",
    "name": "cell29",
    "resultHeight": 495
   },
   "outputs": [],
   "source": "combined_df = fire_df_final.merge(fire_incidents_final_df, on='INCIDENT_NAME', how='left')\ncombined_df",
   "execution_count": null
  },
  {
   "cell_type": "code",
   "id": "e0e5ab6e-efb0-4e3f-8de0-c64e8e6d7efd",
   "metadata": {
    "language": "python",
    "name": "cell40",
    "codeCollapsed": false,
    "resultHeight": 239
   },
   "outputs": [],
   "source": "print(combined_df.columns)",
   "execution_count": null
  },
  {
   "cell_type": "code",
   "id": "662a6a5f-b4aa-412c-b219-6997eae69974",
   "metadata": {
    "language": "python",
    "name": "cell47",
    "codeCollapsed": false,
    "resultHeight": 345
   },
   "outputs": [],
   "source": "fire_unique = fire_df_final['INCIDENT_NAME'].unique()\nfire_incidents_unique = fire_incidents_final_df['INCIDENT_NAME'].unique() # scuffed\ndamage_unique = damage_df['INCIDENT_NAME'].unique()",
   "execution_count": null
  },
  {
   "cell_type": "code",
   "id": "b1227aea-42d7-44e8-923d-2a72ec295894",
   "metadata": {
    "language": "python",
    "name": "cell38",
    "resultHeight": 351
   },
   "outputs": [],
   "source": "none_values_per_column_incidents = fire_incidents_final_df.isna().sum()\nprint(none_values_per_column_incidents)\nprint(len(fire_incidents_final_df))",
   "execution_count": null
  },
  {
   "cell_type": "code",
   "id": "def829c1-fb42-4873-9151-08be5f6a0ff6",
   "metadata": {
    "language": "python",
    "name": "cell1",
    "codeCollapsed": false,
    "resultHeight": 245
   },
   "outputs": [],
   "source": "overlap_12 = set(fire_unique).intersection(fire_incidents_unique)\noverlap_13 = set(fire_unique).intersection(damage_unique)\noverlap_23 = set(fire_incidents_unique).intersection(damage_unique)\noverlap_all = set(fire_unique).intersection(fire_incidents_unique, damage_unique)\n\nprint(\"Overlap between df1 and df2:\", len(overlap_12), overlap_12)\nprint(\"Overlap between df1 and df3:\", len(overlap_13), overlap_13)\nprint(\"Overlap between df2 and df3:\", len(overlap_23), overlap_23)\nprint(\"Overlap between df1, df2, and df3:\", len(overlap_all), overlap_all)",
   "execution_count": null
  },
  {
   "cell_type": "code",
   "id": "1aca717e-52f9-4243-8675-54ad9227caa4",
   "metadata": {
    "language": "python",
    "name": "cell25",
    "codeCollapsed": false,
    "resultHeight": 0
   },
   "outputs": [],
   "source": "",
   "execution_count": null
  },
  {
   "cell_type": "markdown",
   "id": "c8cc54b1-b27b-4132-9924-62c5ff778499",
   "metadata": {
    "name": "cell12",
    "collapsed": false,
    "resultHeight": 60
   },
   "source": "## EDA "
  },
  {
   "cell_type": "code",
   "id": "8b0068e4-5c78-4450-979b-07fb3e29ffc7",
   "metadata": {
    "language": "python",
    "name": "cell16",
    "resultHeight": 0
   },
   "outputs": [],
   "source": "import matplotlib.pyplot as plt",
   "execution_count": null
  },
  {
   "cell_type": "code",
   "id": "ac38d581-90cd-4f9c-9d60-82be1d5d9807",
   "metadata": {
    "language": "python",
    "name": "cell14",
    "codeCollapsed": false,
    "resultHeight": 453
   },
   "outputs": [],
   "source": "# plt.figure(figsize=(10, 6))\nwildfire_counts = fire_df['YEAR'].value_counts().sort_index()\n# print(wildfire_counts)\nwildfire_counts.plot(kind='bar', color='skyblue')\nplt.title('Number of Wildfires per Year')\nplt.xlabel('Year')\nplt.ylabel('Number of Wildfires')\nplt.xticks(rotation=45)\nplt.grid(axis='y')\nplt.show()",
   "execution_count": null
  },
  {
   "cell_type": "code",
   "id": "b0768c20-87eb-496b-adb4-d9a2dec2c20b",
   "metadata": {
    "language": "python",
    "name": "cell62",
    "collapsed": false,
    "resultHeight": 924
   },
   "outputs": [],
   "source": "# Ensure there are no NaN values in the columns you're plotting\nscatter_df = fire_df.dropna(subset=['INCIDENT_ACRES_BURNED', 'TIME_TO_EXTINGUISH'])\n\nplt.figure(figsize=(10, 6))\nplt.scatter(scatter_df['INCIDENT_ACRES_BURNED'], scatter_df['TIME_TO_EXTINGUISH'], alpha=0.5)\nplt.title('Acres Burned vs. Time to Extinguish')\nplt.xlabel('Acres Burned')\nplt.ylabel('Time to Extinguish (hours)')\nplt.grid(True)\nplt.show()\n",
   "execution_count": null
  },
  {
   "cell_type": "code",
   "id": "05b1e5b3-6325-44ba-b6f7-a4addcf326a7",
   "metadata": {
    "language": "python",
    "name": "cell63",
    "collapsed": false,
    "resultHeight": 1346
   },
   "outputs": [],
   "source": "# Select numerical columns\nnumeric_cols = fire_df.select_dtypes(include=['float64', 'int64']).columns\ncorr_matrix = fire_df[numeric_cols].corr()\n\nplt.figure(figsize=(12, 10))\nplt.imshow(corr_matrix, cmap='coolwarm', interpolation='nearest')\nplt.colorbar()\nplt.xticks(range(len(numeric_cols)), numeric_cols, rotation=90)\nplt.yticks(range(len(numeric_cols)), numeric_cols)\nplt.title('Correlation Heatmap')\nplt.tight_layout()\nplt.show()\n",
   "execution_count": null
  },
  {
   "cell_type": "code",
   "id": "5a33cefe-8ba3-44e1-8efb-09a02ef77ad6",
   "metadata": {
    "language": "python",
    "name": "cell64",
    "collapsed": false,
    "resultHeight": 1260
   },
   "outputs": [],
   "source": "# Assuming 'FIRE_CAUSE' is a column in your fire_damage_df DataFrame\ncause_counts = fire_damage_df['FIRE_CAUSE'].value_counts().nlargest(10)\n\nplt.figure(figsize=(10, 6))\ncause_counts.plot(kind='bar', color='orange', edgecolor='black')\nplt.title('Top Causes of Fires')\nplt.xlabel('Cause')\nplt.ylabel('Number of Incidents')\nplt.xticks(rotation=45)\nplt.grid(axis='y')\nplt.show()",
   "execution_count": null
  },
  {
   "cell_type": "code",
   "id": "49ca91ed-7582-423d-9f22-a14e1ed93fba",
   "metadata": {
    "language": "python",
    "name": "cell65",
    "collapsed": false,
    "resultHeight": 958
   },
   "outputs": [],
   "source": "annual_acres = fire_df.groupby('YEAR')['INCIDENT_ACRES_BURNED'].sum().reset_index()\n\nplt.figure(figsize=(10, 6))\nplt.plot(annual_acres['YEAR'], annual_acres['INCIDENT_ACRES_BURNED'], marker='o')\nplt.title('Total Acres Burned Over Years')\nplt.xlabel('Year')\nplt.ylabel('Total Acres Burned')\nplt.grid(True)\nplt.show()\n",
   "execution_count": null
  },
  {
   "cell_type": "code",
   "id": "0aaf9b0b-dab7-4e88-9366-887f2aeab609",
   "metadata": {
    "language": "python",
    "name": "cell66",
    "collapsed": false,
    "resultHeight": 881
   },
   "outputs": [],
   "source": "fire_df['MONTH'] = fire_df['INCIDENT_DATE_CREATED'].dt.month_name()\nmonthly_counts = fire_df['MONTH'].value_counts().reindex([\n    'January', 'February', 'March', 'April', 'May', 'June',\n    'July', 'August', 'September', 'October', 'November', 'December'\n])\n\nplt.figure(figsize=(12, 6))\nmonthly_counts.plot(kind='bar', color='green', edgecolor='black')\nplt.title('Number of Fires by Month')\nplt.xlabel('Month')\nplt.ylabel('Number of Fires')\nplt.xticks(rotation=45)\nplt.grid(axis='y')\nplt.show()",
   "execution_count": null
  },
  {
   "cell_type": "code",
   "id": "ad5fe30b-fd00-49ba-bb54-9ec9ecff7a72",
   "metadata": {
    "language": "python",
    "name": "cell67",
    "collapsed": false,
    "resultHeight": 1230
   },
   "outputs": [],
   "source": "# Assuming 'LATITUDE' and 'LONGITUDE' are columns in fire_damage_df\n\nplt.figure(figsize=(10, 8))\nplt.scatter(fire_damage_df['LONGITUDE'], fire_damage_df['LATITUDE'], alpha=0.5, s=10, c='red')\nplt.title('Geographic Distribution of Fires')\nplt.xlabel('Longitude')\nplt.ylabel('Latitude')\nplt.grid(True)\nplt.show()\n",
   "execution_count": null
  },
  {
   "cell_type": "code",
   "id": "4f6402ed-9577-4afb-8dad-1983885f60b1",
   "metadata": {
    "language": "python",
    "name": "cell68",
    "resultHeight": 0
   },
   "outputs": [],
   "source": "",
   "execution_count": null
  },
  {
   "cell_type": "code",
   "id": "d3102fcb-a0ba-46f1-b0d7-7685f0d12bb0",
   "metadata": {
    "language": "python",
    "name": "cell15",
    "codeCollapsed": false,
    "resultHeight": 1256
   },
   "outputs": [],
   "source": "# which counties get the most wildfires\nwildfire_counties = fire_df['INCIDENT_COUNTY'].value_counts().sort_index()\n# print(wildfire_counties)\nprint(wildfire_counties.nlargest(30))\n\ntop_wildfire_counties = wildfire_counties.nlargest(30)\n\ntop_wildfire_counties.plot(kind='bar', color='skyblue')\nplt.title('Number of Wildfires per County')\nplt.xlabel('County')\nplt.ylabel('Number of Wildfires')\nplt.xticks(rotation=90)\nplt.grid(axis='y')\nplt.show()",
   "execution_count": null
  },
  {
   "cell_type": "code",
   "id": "57e70439-8d71-41c7-baba-6bc73e412a7d",
   "metadata": {
    "language": "python",
    "name": "cell17",
    "codeCollapsed": false,
    "collapsed": false,
    "resultHeight": 0
   },
   "outputs": [],
   "source": "from sklearn.cluster import KMeans",
   "execution_count": null
  },
  {
   "cell_type": "code",
   "id": "55c1b499-5377-434d-b21b-9f9c2a6642c3",
   "metadata": {
    "language": "python",
    "name": "cell60",
    "collapsed": false,
    "resultHeight": 438
   },
   "outputs": [],
   "source": "fire_df",
   "execution_count": null
  },
  {
   "cell_type": "markdown",
   "id": "1132afb3-9c87-40f8-9987-a11784defdaa",
   "metadata": {
    "name": "cell19",
    "collapsed": false
   },
   "source": ""
  },
  {
   "cell_type": "code",
   "id": "952b56b1-de55-461a-88ea-5f98b0f2005f",
   "metadata": {
    "language": "python",
    "name": "cell20",
    "collapsed": false,
    "resultHeight": 666
   },
   "outputs": [],
   "source": "import pandas as pd\n# Identify non-numeric columns\nnon_numeric_columns = fire_df.select_dtypes(exclude=['number']).columns\n\n# Apply one-hot encoding to non-numeric columns\nfire_df_encoded = pd.get_dummies(fire_df, columns=non_numeric_columns, drop_first=True)\n\nfor col in fire_df_encoded.select_dtypes(include=['number']).columns:\n    fire_df_encoded[col].fillna(fire_df_encoded[col].mean(), inplace=True)\n\n# For non-numeric (encoded) columns, fill missing values with the mode\nfor col in fire_df_encoded.select_dtypes(exclude=['number']).columns:\n    fire_df_encoded[col].fillna(fire_df_encoded[col].mode()[0], inplace=True)\n\n\n\n# Step 1: Check for non-numeric columns\nnon_numeric_columns = fire_df_encoded.select_dtypes(exclude=['number']).columns\n\nprint(\"Non-numeric columns:\", list(non_numeric_columns))\n\n# Step 2: Check for columns with missing values\nmissing_values = fire_df_encoded.isnull().sum()\ncolumns_with_missing_values = missing_values[missing_values > 0].index\nprint(\"Columns with missing values:\", list(columns_with_missing_values))\n",
   "execution_count": null
  },
  {
   "cell_type": "code",
   "id": "23319339-aa4a-416e-b725-00633b18a90e",
   "metadata": {
    "language": "python",
    "name": "cell21",
    "collapsed": false,
    "resultHeight": 994
   },
   "outputs": [],
   "source": "kmeans = KMeans(n_clusters=3, random_state=42)\n\n# Step 2: Fit the KMeans model to the data (without the labels)\nkmeans.fit(fire_df_encoded)\n\n# Step 3: Use the predict() method to assign cluster labels to each data point\ncluster_labels = kmeans.predict(fire_df_encoded)\n\n# Step 4: Add the cluster labels to the original Pandas DataFrame\nfire_df_encoded['cluster'] = cluster_labels\n\n# Step 5: Inspect the DataFrame with the new cluster labels\nprint(fire_df_encoded.head())",
   "execution_count": null
  },
  {
   "cell_type": "code",
   "id": "ffa633c4-d5d3-4008-aedc-a7c03d02e6cc",
   "metadata": {
    "language": "python",
    "name": "cell18",
    "collapsed": false,
    "resultHeight": 178
   },
   "outputs": [],
   "source": "# fire_df.drop\nkmeans = KMeans(n_clusters=3, random_state=42)\n\n# Step 2: Fit the KMeans model to the data (without the labels)\nkmeans.fit(fire_df_encoded)\n\n# Step 3: Use the predict() method to assign cluster labels to each data point\ncluster_labels = kmeans.predict(fire_df_encoded)\n\n# Step 4: Add the cluster labels to the original Pandas DataFrame\nfire_df_encoded['cluster'] = cluster_labels\n\n# Step 5: Inspect the DataFrame with the new cluster labels\nprint(fire_df_encoded.head())",
   "execution_count": null
  },
  {
   "cell_type": "code",
   "id": "3d297147-d870-462b-b20b-651c97e58e88",
   "metadata": {
    "language": "python",
    "name": "cell22",
    "collapsed": false,
    "resultHeight": 203
   },
   "outputs": [],
   "source": "# # fire_df_encoded['Cluster'] = kmeans.labels_\n\n# # # Step 2: Group the data by cluster and calculate the mean for each feature\n# # cluster_means = fire_df_encoded.groupby('Cluster').mean()\n\n# # # Step 3: Print the mean values of each feature by cluster\n# # print(\"Average values for each cluster:\")\n# # print(cluster_means)\n\n\n# import pandas as pd\n# from IPython.display import display\n\n# # Assuming 'kmeans' is the fitted KMeans model and 'fire_df_encoded' is the preprocessed DataFrame\n\n# # Step 1: Assign the cluster labels to the DataFrame\n# fire_df_encoded['Cluster'] = kmeans.labels_\n\n# # Step 2: Group the data by cluster and calculate the mean for each feature\n# cluster_means = fire_df_encoded.groupby('Cluster').mean()\n\n# # Step 3: Reset index to make the cluster labels a column\n# cluster_means.reset_index(inplace=True)\n\n# # Step 4: Display the means as a DataTable\n# print(\"Average values for each cluster:\")\n# display(cluster_means)\n# display(cluster_means.iloc[:, :7])  # Including the 'Cluster' column plus the first 6 feature columns\n\nimport pandas as pd\nfrom IPython.display import display\n\n# Assuming 'kmeans' is the fitted KMeans model and 'fire_df_encoded' is the preprocessed DataFrame\n\n# Step 1: Assign the cluster labels to the DataFrame\nfire_df_encoded['Cluster'] = kmeans.labels_\n\n# Step 2: Group the data by cluster and calculate the mean for each feature\ncluster_means = fire_df_encoded.groupby('Cluster').mean()\n\n# Step 3: Reset index to make the cluster labels a column\ncluster_means.reset_index(inplace=True)\n\n# Step 4: Display the means as a DataFrame\nprint(\"Average values for each cluster:\")\n\n# Creating a new DataFrame to hold the cluster averages\ncluster_averages_df = pd.DataFrame(cluster_means)\n\n# Displaying the DataFrame\ncluster_averages_df\n\n# Optionally, display only the first 6 columns including 'Cluster'\n# display(cluster_averages_df.iloc[:, :7])  # Showing first 6 columns plus 'Cluster' column\n\n\n## only include columns specific to impact\n## do cleaning\n## add clustering",
   "execution_count": null
  },
  {
   "cell_type": "code",
   "id": "92c8b89c-1019-4e92-aa9b-bd649a65cb32",
   "metadata": {
    "language": "python",
    "name": "cell61"
   },
   "outputs": [],
   "source": "",
   "execution_count": null
  }
 ]
}